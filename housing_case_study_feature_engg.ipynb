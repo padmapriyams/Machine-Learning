{
 "cells": [
  {
   "cell_type": "markdown",
   "metadata": {},
   "source": [
    "## Table of Contents\n",
    "\n",
    "1. [Basic Feature Engineering](#feature_engg)\n",
    "2. [Missing Value Treatment](#missing_val)\n",
    "3. [Dealing with Categorical Predictors](#category)\n"
   ]
  },
  {
   "cell_type": "markdown",
   "metadata": {},
   "source": [
    "# Data Pre-Processing Objective\n",
    "\n",
    "As part of data pre-processing we will do the following:\n",
    "\n",
    "1. We treat missing values:\n",
    "        a. For features, where missing value simply indcates that that fetaure is not available, we replace missing value with some replacement string (e.g. \"ValueNotAvaialble\")\n",
    "        b. Variables such as LotFrontage seems to have missing values in random. We do a median imputation for these variables\n",
    "2. For categorical predictors:\n",
    "        a. We will do 1-Hot encoding for categorical features with no inherent order among categroies\n",
    "        b. We will do label encoding for categorical features with some inherent order\n",
    "3. We scale continous features (Age, Income etc) and do an outlier check. Outliers are then treated by capping the values to max/min above 3 sd's\n",
    "4. We finally merge all the subsets, to create a final dataset that we use for modelling"
   ]
  },
  {
   "cell_type": "markdown",
   "metadata": {},
   "source": [
    "## Basic Feature Engineering <a name =\"feature_engg\"></a>"
   ]
  },
  {
   "cell_type": "code",
   "execution_count": 7,
   "metadata": {},
   "outputs": [],
   "source": [
    "# Read the combined data in (combined data includes both Training and Submission file)\n",
    "%matplotlib inline\n",
    "import pandas as pd\n",
    "import seaborn as sns\n",
    "housing_df = pd.read_csv(\"housing_data.csv\") "
   ]
  },
  {
   "cell_type": "code",
   "execution_count": 8,
   "metadata": {},
   "outputs": [
    {
     "name": "stderr",
     "output_type": "stream",
     "text": [
      "C:\\Users\\anup.a.nair\\AppData\\Local\\Continuum\\miniconda3\\envs\\deap2\\lib\\site-packages\\scipy\\stats\\stats.py:1713: FutureWarning: Using a non-tuple sequence for multidimensional indexing is deprecated; use `arr[tuple(seq)]` instead of `arr[seq]`. In the future this will be interpreted as an array index, `arr[np.array(seq)]`, which will result either in an error or a different result.\n",
      "  return np.add.reduce(sorted[indexer] * weights, axis=axis) / sumval\n"
     ]
    },
    {
     "data": {
      "image/png": "[encoded data removed]",
      "text/plain": [
       "<Figure size 432x288 with 1 Axes>"
      ]
     },
     "metadata": {},
     "output_type": "display_data"
    }
   ],
   "source": [
    "# Create new feature \"property age\" \n",
    "housing_df[\"property_age\"] = housing_df[\"YrSold\"] - housing_df[\"YearBuilt\"]\n",
    "\n",
    "# Visualy inspect if there is a relationship between the feature created and the target variable\n",
    "sns.regplot(x = \"property_age\", y = \"SalePrice\", data = housing_df);"
   ]
  },
  {
   "cell_type": "markdown",
   "metadata": {},
   "source": [
    "## Missing Value Treatment <a name=\"missing_val\"></a>"
   ]
  },
  {
   "cell_type": "code",
   "execution_count": 3,
   "metadata": {},
   "outputs": [
    {
     "data": {
      "text/plain": [
       "LotFrontage      259\n",
       "Alley           1369\n",
       "MasVnrType         8\n",
       "MasVnrArea         8\n",
       "BsmtQual          37\n",
       "BsmtCond          37\n",
       "BsmtExposure      38\n",
       "BsmtFinType1      37\n",
       "BsmtFinType2      38\n",
       "Electrical         1\n",
       "FireplaceQu      690\n",
       "GarageType        81\n",
       "GarageYrBlt       81\n",
       "GarageFinish      81\n",
       "GarageQual        81\n",
       "GarageCond        81\n",
       "PoolQC          1453\n",
       "Fence           1179\n",
       "MiscFeature     1406\n",
       "dtype: int64"
      ]
     },
     "execution_count": 3,
     "metadata": {},
     "output_type": "execute_result"
    }
   ],
   "source": [
    "# Count missing values using \"isnull()\" method in pandas\n",
    "na_vals = # complete code\n",
    "\n",
    "# filter out variables with NAs > 0\n",
    "features_with_nas = # complete code\n",
    "features_with_nas"
   ]
  },
  {
   "cell_type": "code",
   "execution_count": 13,
   "metadata": {},
   "outputs": [
    {
     "data": {
      "text/plain": [
       "BsmtFinSF1       383.5\n",
       "BsmtFinSF2         0.0\n",
       "BsmtUnfSF        477.5\n",
       "TotalBsmtSF      991.5\n",
       "BsmtFullBath       0.0\n",
       "BsmtHalfBath       0.0\n",
       "GarageYrBlt     1980.0\n",
       "GarageArea       480.0\n",
       "GarageCars         2.0\n",
       "MasVnrArea         0.0\n",
       "LotFrontage       69.0\n",
       "dtype: float64"
      ]
     },
     "execution_count": 13,
     "metadata": {},
     "output_type": "execute_result"
    }
   ],
   "source": [
    "housing_df[cols].median()"
   ]
  },
  {
   "cell_type": "code",
   "execution_count": 9,
   "metadata": {},
   "outputs": [],
   "source": [
    "# Variables missing at random - we do a median imputation\n",
    "\n",
    "cols = ['BsmtFinSF1', 'BsmtFinSF2', 'BsmtUnfSF','TotalBsmtSF', 'BsmtFullBath', 'BsmtHalfBath',\n",
    "       'GarageYrBlt', 'GarageArea', 'GarageCars','MasVnrArea','LotFrontage']\n",
    "housing_df[cols] = housing_df[cols].fillna(housing_df[cols].median())"
   ]
  },
  {
   "cell_type": "markdown",
   "metadata": {},
   "source": [
    "#### In class assignment\n",
    "\n",
    "For feature \"MasVnrType\" we do a mode imputation - Replace it with the most common category value\n"
   ]
  },
  {
   "cell_type": "code",
   "execution_count": 7,
   "metadata": {},
   "outputs": [],
   "source": [
    "# For other features, missing value simply indicates feature not being available\n",
    "housing_df = housing_df.fillna(\"FeatureNotAvailable\")"
   ]
  },
  {
   "cell_type": "code",
   "execution_count": 8,
   "metadata": {},
   "outputs": [
    {
     "data": {
      "text/plain": [
       "Series([], dtype: int64)"
      ]
     },
     "execution_count": 8,
     "metadata": {},
     "output_type": "execute_result"
    }
   ],
   "source": [
    "# We confirm that there are no more missing values\n",
    "na_vals = housing_df.isnull().sum()\n",
    "features_with_nas = na_vals[na_vals > 0]\n",
    "features_with_nas"
   ]
  },
  {
   "cell_type": "markdown",
   "metadata": {},
   "source": [
    "## Dealing with Categorical Predictors <a name=\"category\"></a>"
   ]
  },
  {
   "cell_type": "markdown",
   "metadata": {},
   "source": [
    "We do a \"Label Encoding\" for features where the Categories has an inherent order"
   ]
  },
  {
   "cell_type": "code",
   "execution_count": 14,
   "metadata": {},
   "outputs": [],
   "source": [
    "# Label encoding of ordinal values\n",
    "label_features = [\"ExterQual\",\"ExterCond\",\"BsmtQual\",\"BsmtCond\",\"HeatingQC\",\"KitchenQual\",\n",
    "                  \"FireplaceQu\",\"GarageQual\",\"GarageCond\",\"PoolQC\"]\n",
    "\n",
    "\n",
    "housing_df[label_features] = housing_df[label_features].replace(['Ex', 'Gd', 'TA', 'Fa', 'Po',\"ValueNotAvailable\"], \n",
    "                     [5, 4, 3, 2, 1,0]) \n",
    "\n",
    "housing_df[\"LotShape\"] = housing_df[\"LotShape\"].replace(['Reg', 'IR1', 'IR2', 'IR3'], \n",
    "                     [4, 3, 2, 1]) \n",
    "\n",
    "housing_df[[\"BsmtFinType1\",\"BsmtFinType2\"]] = housing_df[[\"BsmtFinType1\",\"BsmtFinType2\"]].replace(['GLQ', 'ALQ', 'BLQ', 'Rec','LwQ','Unf','ValueNotAvailable'], \n",
    "                     [7, 6, 5, 4, 3, 2, 1]) "
   ]
  },
  {
   "cell_type": "code",
   "execution_count": 15,
   "metadata": {},
   "outputs": [
    {
     "data": {
      "text/plain": [
       "3                      649\n",
       "4                      618\n",
       "5                      121\n",
       "FeatureNotAvailable     37\n",
       "2                       35\n",
       "Name: BsmtQual, dtype: int64"
      ]
     },
     "execution_count": 15,
     "metadata": {},
     "output_type": "execute_result"
    }
   ],
   "source": [
    "housing_df[\"BsmtQual\"].value_counts()"
   ]
  },
  {
   "cell_type": "markdown",
   "metadata": {},
   "source": [
    "<b> For all other Categorical predictors, we do a \"1-Hot-Encoding\" </b>"
   ]
  },
  {
   "cell_type": "code",
   "execution_count": 16,
   "metadata": {},
   "outputs": [
    {
     "data": {
      "text/plain": [
       "(1460, 289)"
      ]
     },
     "execution_count": 16,
     "metadata": {},
     "output_type": "execute_result"
    }
   ],
   "source": [
    "housing_df\n",
    "housing_df_mod = pd.get_dummies(housing_df)\n",
    "housing_df_mod.shape"
   ]
  },
  {
   "cell_type": "code",
   "execution_count": 17,
   "metadata": {},
   "outputs": [],
   "source": [
    "# Save processed data\n",
    "housing_df_mod.to_csv(\"housing_df_mod.csv\",index=False)"
   ]
  },
  {
   "cell_type": "code",
   "execution_count": null,
   "metadata": {},
   "outputs": [],
   "source": []
  }
 ],
 "metadata": {
  "anaconda-cloud": {},
  "kernelspec": {
   "display_name": "Python 3",
   "language": "python",
   "name": "python3"
  },
  "language_info": {
   "codemirror_mode": {
    "name": "ipython",
    "version": 3
   },
   "file_extension": ".py",
   "mimetype": "text/x-python",
   "name": "python",
   "nbconvert_exporter": "python",
   "pygments_lexer": "ipython3",
   "version": "3.5.5"
  }
 },
 "nbformat": 4,
 "nbformat_minor": 1
}
